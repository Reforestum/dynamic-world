{
 "cells": [
  {
   "cell_type": "markdown",
   "metadata": {},
   "source": [
    "# 🌲 Dynamic-world 🌳 \n",
    "## Code usage tutorial 🍂\n",
    "This notebook provides an example of how this package can be used for remote monitoring of forests."
   ]
  },
  {
   "cell_type": "markdown",
   "metadata": {},
   "source": [
    "### 0. First Steps 🧐\n",
    "First step is to install the dynamic-world package, you can do so by running"
   ]
  },
  {
   "cell_type": "code",
   "execution_count": 1,
   "metadata": {},
   "outputs": [],
   "source": [
    "# !pip install dynamic-world"
   ]
  },
  {
   "cell_type": "markdown",
   "metadata": {},
   "source": [
    "### 1. Forests 🌳 🌲 🌴\n",
    "This package is based around the concept of a Forest.\n",
    "\n",
    "Each forest (or \"proyect\") is stored inside a directory with a given name. Please create a directory named \"forests\" and inside of it a folder named \"Sample\".\n",
    "Inside this directory there must be 2 files:\n",
    "- a **forest_config.yml** (name is mandatory) which looks like this (copy and paste):\n",
    "```yaml\n",
    "# Name of the forest/proyect\n",
    "name : Sample\n",
    "\n",
    "# Locations of the geojson file and dcitionary with carbon factor/metric\n",
    "geojson : './sample.geojson'\n",
    "carbon_factor : {\n",
    "    \"trees\" : 591.85,\n",
    "    \"grass\" : 6,\n",
    "    \"bare\" : 6,\n",
    "    \"crops\" : 11.5,\n",
    "    \"flooded_vegetation\" : 6,\n",
    "    \"other\" : 0,\n",
    "    \"factor_pixel\" : 100\n",
    "}\n",
    "\n",
    "# Date in which the reforestation started, in format YYYY-mm-dd\n",
    "start_date: '2019-01-01'\n",
    "```\n",
    "\n",
    "- a valid [geojson](https://geojson.org/) file (named as defined in forest_config.yml) that defines the area. Copy and paste the next lines into \"./forests/Sample/sample.geojson\" (it's a small squared area in Peru):\n",
    "\n",
    "```json\n",
    "{\n",
    "  \"type\": \"FeatureCollection\",\n",
    "  \"features\": [\n",
    "    {\n",
    "      \"type\": \"Feature\",\n",
    "      \"properties\": {},\n",
    "      \"geometry\": {\n",
    "        \"type\": \"Polygon\",\n",
    "        \"coordinates\": [\n",
    "          [\n",
    "            [\n",
    "              -76.14143371582031,\n",
    "              -8.76819770453058\n",
    "            ],\n",
    "            [\n",
    "              -76.08770370483398,\n",
    "              -8.76819770453058\n",
    "            ],\n",
    "            [\n",
    "              -76.08770370483398,\n",
    "              -8.729683981712537\n",
    "            ],\n",
    "            [\n",
    "              -76.14143371582031,\n",
    "              -8.729683981712537\n",
    "            ],\n",
    "            [\n",
    "              -76.14143371582031,\n",
    "              -8.76819770453058\n",
    "            ]\n",
    "          ]\n",
    "        ]\n",
    "      }\n",
    "    }\n",
    "  ]\n",
    "}\n",
    "```\n",
    "\n",
    "The directory structure should be the following\n",
    "```\n",
    "./\n",
    "└───dynamic-world-tutorial.ipynb\n",
    "│\n",
    "└─── forests\n",
    "    │\n",
    "    └─── Sample\n",
    "        │   forest_config.yml\n",
    "        └─  sample.geojson\n",
    "\n",
    "```"
   ]
  },
  {
   "cell_type": "markdown",
   "metadata": {},
   "source": [
    "#### 1.1 Loading a forest 🌱\n",
    "To load a forest you can call use the load_config function. It will return a ForestConfig instance with some features:"
   ]
  },
  {
   "cell_type": "code",
   "execution_count": 18,
   "metadata": {},
   "outputs": [
    {
     "name": "stdout",
     "output_type": "stream",
     "text": [
      "<class 'dynamic_world.configurations.ForestConfig'>\n"
     ]
    }
   ],
   "source": [
    "from dynamic_world.configurations import load_config\n",
    "from pathlib import Path\n",
    "\n",
    "forest = load_config(directory_path=Path(\"./forests/Sample/\"))\n",
    "print(type(forest))"
   ]
  },
  {
   "cell_type": "code",
   "execution_count": 19,
   "metadata": {},
   "outputs": [
    {
     "name": "stdout",
     "output_type": "stream",
     "text": [
      "Forest name:  Sample\n",
      "Carbon factor info:  {'trees': 591.85, 'grass': 6.0, 'bare': 6.0, 'crops': 11.5, 'flooded_vegetation': 6.0, 'other': 0.0, 'factor_pixel': 100.0}\n",
      "Reforestation start date:  2019-01-01\n",
      "Geojson info:  {\"features\": [{\"geometry\": {\"coordinates\": [[[-76.141434, -8.768198], [-76.087704, -8.768198], [-76.087704, -8.729684], [-76.141434, -8.729684], [-76.141434, -8.768198]]], \"type\": \"Polygon\"}, \"properties\": {}, \"type\": \"Feature\"}], \"type\": \"FeatureCollection\"}\n"
     ]
    }
   ],
   "source": [
    "print(\"Forest name: \", forest.name)\n",
    "print(\"Carbon factor info: \", forest.carbon_factor_info)\n",
    "print(\"Reforestation start date: \", forest.start_date)\n",
    "print(\"Geojson info: \", forest.geojson_info)"
   ]
  },
  {
   "cell_type": "markdown",
   "metadata": {},
   "source": [
    "### 2. Calculations 📈\n",
    "Given a forest and a pair of dates, we download the forest's landcover image, landcover statistics and carbon factor calculation.\n",
    "By carbon factor we mean the amount of CO2 (measured in tons) that a forest stores (and therefore is not released into the atmosphere :D)\n",
    "\n",
    "***NOTE:*** before running any of the next cells it is required that you Authenticate and Initialize the Google Earth Engine service. The easiest way is by running:"
   ]
  },
  {
   "cell_type": "code",
   "execution_count": null,
   "metadata": {},
   "outputs": [],
   "source": [
    "import ee\n",
    "\n",
    "ee.Authenticate() # You can skip this line if you have logged in GEE before.\n",
    "ee.Initialize()"
   ]
  },
  {
   "cell_type": "markdown",
   "metadata": {},
   "source": [
    "#### 2.0. Plotting the forest 🌎\n",
    "To clarify what we are doing, lets plot an image of the forest using geemap"
   ]
  },
  {
   "cell_type": "code",
   "execution_count": 21,
   "metadata": {},
   "outputs": [],
   "source": [
    "import geemap"
   ]
  },
  {
   "cell_type": "code",
   "execution_count": 22,
   "metadata": {},
   "outputs": [],
   "source": [
    "# Loading geojson object as ee.FeatureCollection\n",
    "ee_geojson = geemap.geojson_to_ee(forest.geojson_info)\n",
    "\n",
    "# Defining the borders for DW map (must be defined as ee.Geometry)\n",
    "borders = ee_geojson.geometry()\n",
    "\n",
    "# Defining start and end dates\n",
    "start_date = \"2020-01-01\"\n",
    "end_date = \"2021-01-01\"\n",
    "\n",
    "# Loading DW map and restrict it to dates and borders\n",
    "dw = ee.ImageCollection('GOOGLE/DYNAMICWORLD/V1').filterDate(\n",
    "    start_date, end_date).filterBounds(\n",
    "    borders)  # Returns ee.ImageCollection\n",
    "\n",
    "classification = dw.select('label')\n",
    "dw_composite = classification.reduce(ee.Reducer.mode()).clip(borders)"
   ]
  },
  {
   "cell_type": "code",
   "execution_count": 23,
   "metadata": {},
   "outputs": [],
   "source": [
    "Map = geemap.Map()\n",
    "Map.add_basemap('HYBRID') # 'ROADMAP' 'SATELITE' 'TERRAIN' also supported\n",
    "\n",
    "# Create a Sentinel-2 image composite\n",
    "image = geemap.dynamic_world_s2(borders, start_date, end_date)\n",
    "vis_params = {'bands': ['B4', 'B3', 'B2'], 'min': 0, 'max': 3000}\n",
    "Map.addLayer(image.clip(borders), vis_params, 'Sentinel-2 image')\n",
    "\n",
    "Map.centerObject(borders)\n",
    "\n",
    "landcover_vis_params = {\n",
    "    \"min\": 0,\n",
    "    \"max\": 8,\n",
    "    \"palette\": [\n",
    "        \"#419BDF\",\n",
    "        \"#397D49\",\n",
    "        \"#88B053\",\n",
    "        \"#7A87C6\",\n",
    "        \"#E49635\",\n",
    "        \"#DFC35A\",\n",
    "        \"#C4281B\",\n",
    "        \"#A59B8F\",\n",
    "        \"#B39FE1\",\n",
    "    ]\n",
    "}\n",
    "\n",
    "Map.addLayer(dw_composite.select(\"label_mode\"), landcover_vis_params, \"Landcover\")\n",
    "Map.add_legend(title=\"Landcover\", builtin_legend=\"Dynamic_World\")"
   ]
  },
  {
   "cell_type": "code",
   "execution_count": 24,
   "metadata": {},
   "outputs": [
    {
     "data": {
      "application/vnd.jupyter.widget-view+json": {
       "model_id": "09813acbf9d24a60be30a8d9b1595a8f",
       "version_major": 2,
       "version_minor": 0
      },
      "text/plain": [
       "Map(center=[-8.748941001853282, -76.114569], controls=(WidgetControl(options=['position', 'transparent_bg'], w…"
      ]
     },
     "metadata": {},
     "output_type": "display_data"
    }
   ],
   "source": [
    "Map"
   ]
  },
  {
   "cell_type": "markdown",
   "metadata": {},
   "source": [
    "#### 2.1. Calculating the carbon factor 🌿 🌷\n",
    "Using dynamic_world.calculations we can easily obtain the carbon tons not released into the atmosphere.\n",
    "\n",
    "The first step is to retrieve the pixel_counts"
   ]
  },
  {
   "cell_type": "code",
   "execution_count": 25,
   "metadata": {},
   "outputs": [
    {
     "name": "stdout",
     "output_type": "stream",
     "text": [
      "{'NA': 750, 'bare': 14, 'built': 7265, 'crops': 11916, 'flooded_vegetation': 23, 'grass': 9262, 'shrub_and_scrub': 7188, 'trees': 216321, 'water': 4232}\n"
     ]
    }
   ],
   "source": [
    "from dynamic_world.calculations import single_date_calculation\n",
    "\n",
    "counts = single_date_calculation(\n",
    "    start_date,\n",
    "    end_date,\n",
    "    forest\n",
    ")\n",
    "\n",
    "print(counts)"
   ]
  },
  {
   "cell_type": "markdown",
   "metadata": {},
   "source": [
    "Once we have the pixel counts we can easily calculate the carbon factor"
   ]
  },
  {
   "cell_type": "code",
   "execution_count": 26,
   "metadata": {},
   "outputs": [
    {
     "name": "stdout",
     "output_type": "stream",
     "text": [
      "Forest Sample at date 2021-01-01 has saved 1285977.39433951 tons of CO2\n"
     ]
    }
   ],
   "source": [
    "from dynamic_world.calculations import carbon_factor_calculation\n",
    "\n",
    "carbon_factor = carbon_factor_calculation(\n",
    "    pixel_counts = counts,\n",
    "    forest = forest\n",
    ")\n",
    "\n",
    "print(f\"Forest {forest.name} at date {end_date} has saved {carbon_factor} tons of CO2\")"
   ]
  },
  {
   "cell_type": "markdown",
   "metadata": {},
   "source": [
    "Note that the typical usage is to set the end_date and then setting the start_date creating a suitable interval (depends on the forest conditions, typically cloudy areas like Peru are associated with a lot of NA pixels so a larger interval is required)."
   ]
  },
  {
   "cell_type": "markdown",
   "metadata": {},
   "source": [
    "#### 2.2 Downloading a TIFF image of the landcover ✏️\n",
    "The forest image is stored inside a [Cloud Optimized Geotiff](https://www.cogeo.org/) file (a normal TIFF file is also produced)"
   ]
  },
  {
   "cell_type": "code",
   "execution_count": 27,
   "metadata": {},
   "outputs": [
    {
     "data": {
      "application/vnd.jupyter.widget-view+json": {
       "model_id": "6f2a31bb2f19405fabac47abc678fcff",
       "version_major": 2,
       "version_minor": 0
      },
      "text/plain": [
       "Sample_2020-01-01_2021-01-01.tif: |          | 0.00/258k (raw) [  0.0%] in 00:00 (eta:     ?)"
      ]
     },
     "metadata": {},
     "output_type": "display_data"
    },
    {
     "name": "stderr",
     "output_type": "stream",
     "text": [
      "/workspaces/dynamic-world/dynamic_world/downloads.py: 74 at 2022-08-11 08:58:27,320 - [mrv-gnome][INFO]: Successfully created TIFF file forests/Sample/2021-01-01/Sample_2020-01-01_2021-01-01.tif\n",
      "/workspaces/dynamic-world/dynamic_world/downloads.py: 82 at 2022-08-11 08:58:27,500 - [mrv-gnome][INFO]: Successfully created COG file forests/Sample/2021-01-01/Sample_2020-01-01_2021-01-01.cog.tif\n"
     ]
    },
    {
     "name": "stdout",
     "output_type": "stream",
     "text": [
      "Input file size is 599, 430\n",
      "0...10...20...30...40...50...60...70...80...90...100 - done.\n"
     ]
    },
    {
     "data": {
      "text/plain": [
       "PosixPath('forests/Sample/2021-01-01/Sample_2020-01-01_2021-01-01.cog.tif')"
      ]
     },
     "execution_count": 27,
     "metadata": {},
     "output_type": "execute_result"
    }
   ],
   "source": [
    "from dynamic_world.downloads import download_single_date_image\n",
    "\n",
    "download_single_date_image(\n",
    "    start_date,\n",
    "    end_date,\n",
    "    forest,\n",
    "    destination_folder=Path(f\"./forests/Sample/{end_date}\")\n",
    ")"
   ]
  },
  {
   "cell_type": "markdown",
   "metadata": {},
   "source": [
    "Let's plot the new file to see the results"
   ]
  },
  {
   "cell_type": "code",
   "execution_count": 28,
   "metadata": {},
   "outputs": [
    {
     "data": {
      "image/png": "[encoded data removed]",
      "text/plain": [
       "<Figure size 432x288 with 1 Axes>"
      ]
     },
     "metadata": {
      "needs_background": "light"
     },
     "output_type": "display_data"
    }
   ],
   "source": [
    "import matplotlib.image as mpimg\n",
    "import matplotlib.pyplot as plt\n",
    "import matplotlib.colors as clrs\n",
    "\n",
    "img=mpimg.imread(\"./forests/Sample/2021-01-01/Sample_2020-01-01_2021-01-01.cog.tif\")\n",
    "imgplot = plt.imshow(\n",
    "    img,\n",
    "    vmin=0,\n",
    "    vmax=8,\n",
    "    cmap=clrs.ListedColormap([\n",
    "        \"#419BDF\",\n",
    "        \"#397D49\",\n",
    "        \"#88B053\",\n",
    "        \"#7A87C6\",\n",
    "        \"#E49635\",\n",
    "        \"#DFC35A\",\n",
    "        \"#C4281B\",\n",
    "        \"#A59B8F\",\n",
    "        \"#B39FE1\",\n",
    "    ]))\n",
    "plt.show()"
   ]
  },
  {
   "cell_type": "markdown",
   "metadata": {},
   "source": [
    "#### Comment about reductions\n",
    "For [reductions](https://developers.google.com/earth-engine/guides/reducers_intro) we use the Mode (polling). If a very large time interval is specified, recent changes in the forest will be masked by old pixel values. It is encouraged to use the smallest possible time intervals (at least a week is required or there may not be data). However, depending on some factors (such as the amount of clouds), specifying a small time interval may result in many NA (see mrv.calculations documentation for further info on how NA are treated when calculating the carbon factor)."
   ]
  }
 ],
 "metadata": {
  "kernelspec": {
   "display_name": "Python 3.9.13 64-bit",
   "language": "python",
   "name": "python3"
  },
  "language_info": {
   "codemirror_mode": {
    "name": "ipython",
    "version": 3
   },
   "file_extension": ".py",
   "mimetype": "text/x-python",
   "name": "python",
   "nbconvert_exporter": "python",
   "pygments_lexer": "ipython3",
   "version": "3.9.13"
  },
  "orig_nbformat": 4,
  "vscode": {
   "interpreter": {
    "hash": "949777d72b0d2535278d3dc13498b2535136f6dfe0678499012e853ee9abcab1"
   }
  }
 },
 "nbformat": 4,
 "nbformat_minor": 2
}
